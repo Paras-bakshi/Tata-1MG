{
 "cells": [
  {
   "cell_type": "markdown",
   "id": "386662c5",
   "metadata": {},
   "source": [
    "# Day 1: Python"
   ]
  },
  {
   "cell_type": "markdown",
   "id": "574c9952",
   "metadata": {},
   "source": [
    "Visualize Python: https://pythontutor.com/visualize.html#mode=edit"
   ]
  },
  {
   "cell_type": "code",
   "execution_count": 1,
   "id": "921ec452",
   "metadata": {},
   "outputs": [
    {
     "name": "stdout",
     "output_type": "stream",
     "text": [
      "3\n"
     ]
    }
   ],
   "source": [
    "#What will this script produce?\n",
    "a = 1\n",
    "a = 2\n",
    "a = 3\n",
    "print(a)\n",
    "\n",
    "# Ans 3"
   ]
  },
  {
   "cell_type": "code",
   "execution_count": 2,
   "id": "72f2ce0c",
   "metadata": {},
   "outputs": [
    {
     "name": "stdout",
     "output_type": "stream",
     "text": [
      "3\n"
     ]
    }
   ],
   "source": [
    "#The script generates an error. Please add the appropriate code that adds variables a and b without an error.\n",
    "a = \"1\"\n",
    "b = 2\n",
    "# print(a + b)\n",
    "\n",
    "print(int(a)+b)\n"
   ]
  },
  {
   "cell_type": "code",
   "execution_count": 3,
   "id": "41bcff56",
   "metadata": {},
   "outputs": [
    {
     "data": {
      "text/plain": [
       "'b'"
      ]
     },
     "execution_count": 3,
     "metadata": {},
     "output_type": "execute_result"
    }
   ],
   "source": [
    "#Complete the script so that it prints out the second letter of the list\n",
    "letters = [\"a\", \"b\", \"c\", \"d\", \"e\", \"f\", \"g\", \"h\", \"i\", \"j\"]\n",
    "letters[1]\n",
    "\n"
   ]
  },
  {
   "cell_type": "code",
   "execution_count": 4,
   "id": "ced72e9a",
   "metadata": {},
   "outputs": [
    {
     "data": {
      "text/plain": [
       "['d', 'e', 'f']"
      ]
     },
     "execution_count": 4,
     "metadata": {},
     "output_type": "execute_result"
    }
   ],
   "source": [
    "#Complete the script so that it prints out a list containing letters d, e, f.\n",
    "letters = [\"a\", \"b\", \"c\", \"d\", \"e\", \"f\", \"g\", \"h\", \"i\", \"j\"]\n",
    "letters[3:6]\n"
   ]
  },
  {
   "cell_type": "code",
   "execution_count": 5,
   "id": "656da0cc",
   "metadata": {},
   "outputs": [
    {
     "data": {
      "text/plain": [
       "['a', 'b', 'c']"
      ]
     },
     "execution_count": 5,
     "metadata": {},
     "output_type": "execute_result"
    }
   ],
   "source": [
    "#Complete the script so that it prints out a list containing the first three elements of list letters\n",
    "letters = [\"a\", \"b\", \"c\", \"d\", \"e\", \"f\", \"g\", \"h\", \"i\", \"j\"]\n",
    "letters[:3]\n"
   ]
  },
  {
   "cell_type": "code",
   "execution_count": 6,
   "id": "517e5246",
   "metadata": {},
   "outputs": [
    {
     "data": {
      "text/plain": [
       "'i'"
      ]
     },
     "execution_count": 6,
     "metadata": {},
     "output_type": "execute_result"
    }
   ],
   "source": [
    "#Complete the script so that it prints out the letter i using negative indexing\n",
    "letters = [\"a\", \"b\", \"c\", \"d\", \"e\", \"f\", \"g\", \"h\", \"i\", \"j\"]\n",
    "letters[-2]\n"
   ]
  },
  {
   "cell_type": "code",
   "execution_count": 7,
   "id": "30df767b",
   "metadata": {},
   "outputs": [
    {
     "data": {
      "text/plain": [
       "['h', 'i', 'j']"
      ]
     },
     "execution_count": 7,
     "metadata": {},
     "output_type": "execute_result"
    }
   ],
   "source": [
    "#Complete the script so that it prints out a list containing the last three elements of list letters\n",
    "letters = [\"a\", \"b\", \"c\", \"d\", \"e\", \"f\", \"g\", \"h\", \"i\", \"j\"]\n",
    "letters[len(letters)-3:]\n"
   ]
  },
  {
   "cell_type": "code",
   "execution_count": 8,
   "id": "62376a36",
   "metadata": {},
   "outputs": [
    {
     "name": "stdout",
     "output_type": "stream",
     "text": [
      "['a', 'c', 'e', 'g', 'i']\n"
     ]
    }
   ],
   "source": [
    "#Complete the script so that it prints out a list containing letters a, c, e, g, and i so the at a step of two\n",
    "letters = [\"a\", \"b\", \"c\", \"d\", \"e\", \"f\", \"g\", \"h\", \"i\", \"j\"]\n",
    "a=0\n",
    "l=[]\n",
    "for x in range(0,len(letters)):\n",
    " if(x%2==0):\n",
    "    l.append(letters[x])\n",
    "print(l)"
   ]
  },
  {
   "cell_type": "code",
   "execution_count": 9,
   "id": "4abe4147",
   "metadata": {},
   "outputs": [
    {
     "name": "stdout",
     "output_type": "stream",
     "text": [
      "[1, 2, 3, 4, 5, 6, 7, 8, 9, 10, 11, 12, 13, 14, 15, 16, 17, 18, 19, 20]\n"
     ]
    }
   ],
   "source": [
    "#Create a script that generates a list of numbers from 1 to 20. Do not create a list manually.\n",
    "l=[x for x in range(1,21)]\n",
    "print(l)\n"
   ]
  },
  {
   "cell_type": "code",
   "execution_count": 10,
   "id": "3764de23",
   "metadata": {},
   "outputs": [
    {
     "name": "stdout",
     "output_type": "stream",
     "text": [
      "[10, 20, 30, 40, 50, 60, 70, 80, 90, 100]\n"
     ]
    }
   ],
   "source": [
    "#Create a script that generates a list whose items are products of the original list items multiplied by 10\n",
    "l=[x for x in range(1,11)]\n",
    "l1=[10*x for x in l]\n",
    "print(l1)\n"
   ]
  },
  {
   "cell_type": "code",
   "execution_count": 11,
   "id": "894c7f70",
   "metadata": {},
   "outputs": [
    {
     "name": "stdout",
     "output_type": "stream",
     "text": [
      "['1', '2', '3', '4', '5', '6', '7', '8', '9', '10', '11', '12', '13', '14', '15', '16', '17', '18', '19', '20']\n"
     ]
    }
   ],
   "source": [
    "#Create a script that converts all items of the range to strings\n",
    "my_range = range(1, 21)\n",
    "l=[str(x) for x in my_range]\n",
    "print(l)"
   ]
  },
  {
   "cell_type": "code",
   "execution_count": 12,
   "id": "e4ca7775",
   "metadata": {},
   "outputs": [
    {
     "data": {
      "text/plain": [
       "{'1', 1, 2}"
      ]
     },
     "execution_count": 12,
     "metadata": {},
     "output_type": "execute_result"
    }
   ],
   "source": [
    "#Write a script that remove duplicates from a list\n",
    "a = [\"1\", 1, \"1\", 2]\n",
    "set(a)\n"
   ]
  },
  {
   "cell_type": "code",
   "execution_count": 13,
   "id": "8eb82355",
   "metadata": {},
   "outputs": [
    {
     "name": "stdout",
     "output_type": "stream",
     "text": [
      "{'a': 1, 'b': 2, 'c': 3}\n"
     ]
    }
   ],
   "source": [
    "#Add a c key with a value of 3 to the dictionary and print out the updated dictinary\n",
    "d = {\"a\": 1, \"b\": 2}\n",
    "d[\"c\"]=3\n",
    "print(d)\n"
   ]
  },
  {
   "cell_type": "code",
   "execution_count": 14,
   "id": "f59d8d65",
   "metadata": {},
   "outputs": [
    {
     "name": "stdout",
     "output_type": "stream",
     "text": [
      "6\n"
     ]
    }
   ],
   "source": [
    "#Find the sum of all values\n",
    "d = {\"a\": 1, \"b\": 2, \"c\": 3}\n",
    "valuesum=0\n",
    "for x in d:\n",
    "    valuesum=valuesum+d[x]\n",
    "print(valuesum)\n",
    "    "
   ]
  },
  {
   "cell_type": "code",
   "execution_count": 15,
   "id": "75cdf7e1",
   "metadata": {},
   "outputs": [
    {
     "name": "stdout",
     "output_type": "stream",
     "text": [
      "key  b and value  2\n",
      "key  c and value  3\n"
     ]
    }
   ],
   "source": [
    "#Filter out values of equal or greater than 2\n",
    "d = {\"a\": 1, \"b\": 2, \"c\": 3}\n",
    "for x in d:\n",
    "    if(d[x]>=2):\n",
    "     print(\"key \",x,\"and value \",d[x])\n"
   ]
  },
  {
   "cell_type": "code",
   "execution_count": 16,
   "id": "f1f81fb9",
   "metadata": {},
   "outputs": [
    {
     "data": {
      "text/plain": [
       "13"
      ]
     },
     "execution_count": 16,
     "metadata": {},
     "output_type": "execute_result"
    }
   ],
   "source": [
    "#Access the third value of key b.\n",
    "\n",
    "d = dict(a = list(range(1, 11)), b = list(range(11, 21)), c = list(range(21, 31)))\n",
    "l=d['b']\n",
    "l[2]\n"
   ]
  },
  {
   "cell_type": "code",
   "execution_count": 17,
   "id": "e3171afd",
   "metadata": {},
   "outputs": [
    {
     "name": "stdout",
     "output_type": "stream",
     "text": [
      "a b c d e f g h i j k l m n o p q r s t u v w x y z "
     ]
    }
   ],
   "source": [
    "#Make a script that prints out letters of English alphabet from a to z\n",
    "x=ord('a')\n",
    "for x in range(x,x+26):\n",
    "    print(chr(x), end=\" \")\n",
    "\n"
   ]
  },
  {
   "cell_type": "code",
   "execution_count": 18,
   "id": "a05c43b7",
   "metadata": {},
   "outputs": [
    {
     "name": "stdout",
     "output_type": "stream",
     "text": [
      "-1.0\n"
     ]
    }
   ],
   "source": [
    "#Write a function that calculates acceleration given the formula:\n",
    "#a = (v2 - v1) / t2 - t1\n",
    "def fun(v1,v2,t2,t1):\n",
    "    a=(v2 - v1) / (t2 - t1)\n",
    "    print(a)\n",
    "    \n",
    "fun(10,100,10,100)\n",
    "    "
   ]
  },
  {
   "cell_type": "code",
   "execution_count": 19,
   "id": "63c922af",
   "metadata": {},
   "outputs": [
    {
     "name": "stdout",
     "output_type": "stream",
     "text": [
      "50\n"
     ]
    }
   ],
   "source": [
    "#Why is the error and how to fix it?\n",
    "\n",
    "def foo(a, b):\n",
    "    return (a + b)\n",
    "\n",
    "x = foo(2, 3) * 10\n",
    "print(x)\n",
    "\n",
    "# as there is no return value in the function and we are * by 10"
   ]
  },
  {
   "cell_type": "code",
   "execution_count": 20,
   "id": "a07b4c7d",
   "metadata": {},
   "outputs": [
    {
     "name": "stdout",
     "output_type": "stream",
     "text": [
      "7\n"
     ]
    }
   ],
   "source": [
    "#Why do you get an error and how would you fix it?\n",
    "\n",
    "def foo(b,a=2):\n",
    "    return a + b\n",
    "\n",
    "print(foo(3, 4))\n",
    "\n",
    "#default arguments should be at end"
   ]
  },
  {
   "cell_type": "code",
   "execution_count": 21,
   "id": "56b4e5d2",
   "metadata": {},
   "outputs": [
    {
     "name": "stdout",
     "output_type": "stream",
     "text": [
      "Emma25\n",
      "scientist50\n"
     ]
    }
   ],
   "source": [
    "# Write a program to find words with both alphabets and numbers from an input string.\n",
    "# Expected output:\n",
    "# Emma25\n",
    "# scientist50\n",
    "str1 = \"Emma25 is Data scientist50 and AI Expert\"\n",
    "words = str1.split()\n",
    "for word in words:\n",
    "    if (any(char.isalpha()==1 for char in word) and any(char.isdigit()==1 for char in word)):\n",
    "        print(word)"
   ]
  },
  {
   "cell_type": "code",
   "execution_count": 22,
   "id": "4dfcee93",
   "metadata": {},
   "outputs": [
    {
     "name": "stdout",
     "output_type": "stream",
     "text": [
      "Jon is developer  musician\n"
     ]
    }
   ],
   "source": [
    "# Remove special symbols / punctuation from a string\n",
    "import string\n",
    "test_str = \"/*Jon is @developer & musician\"\n",
    "test_str = test_str.translate(str.maketrans('', '', string.punctuation))\n",
    "print(test_str)"
   ]
  },
  {
   "cell_type": "code",
   "execution_count": 1,
   "id": "469f53af",
   "metadata": {},
   "outputs": [
    {
     "name": "stdout",
     "output_type": "stream",
     "text": [
      "Enter h_c: 2\n",
      "Liquid area: 1130.97\n",
      "Liquid volume: 4071.5\n"
     ]
    }
   ],
   "source": [
    "#Write a script that calculates liquid formula taken from http://www.1728.org/spherprt.gif\n",
    "#When writing the function consider that r is always 10.\n",
    "from math import pi\n",
    "\n",
    "h_c = int(input(\"Enter h_c: \"))\n",
    "\n",
    "r = 10\n",
    "liquid_volume = ((4*pi*(r**3)))/3 - ((pi*(h_c**2)*(3*r-h_c)))/3\n",
    "liquid_area = 4*pi*(r**2) - (2*pi*r*h_c)\n",
    "\n",
    "print(\"Liquid area:\",round(liquid_area,2))\n",
    "print(\"Liquid volume:\",round(liquid_volume,2))\n"
   ]
  },
  {
   "cell_type": "code",
   "execution_count": null,
   "id": "c45514f3",
   "metadata": {},
   "outputs": [],
   "source": []
  }
 ],
 "metadata": {
  "kernelspec": {
   "display_name": "Python 3 (ipykernel)",
   "language": "python",
   "name": "python3"
  },
  "language_info": {
   "codemirror_mode": {
    "name": "ipython",
    "version": 3
   },
   "file_extension": ".py",
   "mimetype": "text/x-python",
   "name": "python",
   "nbconvert_exporter": "python",
   "pygments_lexer": "ipython3",
   "version": "3.11.1"
  }
 },
 "nbformat": 4,
 "nbformat_minor": 5
}
